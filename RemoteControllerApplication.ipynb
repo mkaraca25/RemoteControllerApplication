{
  "nbformat": 4,
  "nbformat_minor": 0,
  "metadata": {
    "colab": {
      "name": "RemoteControllerApplication.ipynb",
      "provenance": [],
      "authorship_tag": "ABX9TyNSrtBk8EYk7LBWRcMiwZ2S",
      "include_colab_link": true
    },
    "kernelspec": {
      "name": "python3",
      "display_name": "Python 3"
    },
    "language_info": {
      "name": "python"
    }
  },
  "cells": [
    {
      "cell_type": "markdown",
      "metadata": {
        "id": "view-in-github",
        "colab_type": "text"
      },
      "source": [
        "<a href=\"https://colab.research.google.com/github/mkaraca25/RemoteControllerApplication-/blob/main/RemoteControllerApplication.ipynb\" target=\"_parent\"><img src=\"https://colab.research.google.com/assets/colab-badge.svg\" alt=\"Open In Colab\"/></a>"
      ]
    },
    {
      "cell_type": "code",
      "execution_count": null,
      "metadata": {
        "colab": {
          "base_uri": "https://localhost:8080/"
        },
        "id": "wEyfA-QKvZe9",
        "outputId": "19218b76-967d-4e5b-c7f5-1eb483e42695"
      },
      "outputs": [
        {
          "output_type": "stream",
          "name": "stdout",
          "text": [
            "Creating a remote controller...\n",
            "\n",
            "\n",
            "1.Turn on TV\n",
            "2.Turn off TV\n",
            "3.Volume Adjusment\n",
            "4.Add channel\n",
            "5.Number of channels\n",
            "6.Open random channel\n",
            "7.TV info\n",
            "\n",
            "for exit press Q\n",
            "\n"
          ]
        }
      ],
      "source": [
        "import time\n",
        "import random\n",
        "class Remote_Controller():\n",
        "  def __init__(self,TV_Status=\"OFF\",TV_Volume = 0 ,Channel_List=[\"BBC1\"],Channel_Name=\"BBC1\"):\n",
        "    print(\"Creating a remote controller...\")\n",
        "    self.TV_Status=TV_Status\n",
        "    self.TV_Volume=TV_Volume\n",
        "    self.Channel_List=Channel_List\n",
        "    self.Channel_Name=Channel_Name\n",
        "  def TV_On(self):\n",
        "    if self.TV_Status==\"ON\":\n",
        "      print(\"TV is already on...\")\n",
        "    else:\n",
        "      print(\"TV is turning on...\")\n",
        "      self.TV_Status==\"ON\"\n",
        "  def TV_Off(self):\n",
        "    if self.TV_Status==\"OFF\":\n",
        "      print(\"TV is already off...\")\n",
        "    else:\n",
        "      print(\"TV is turning off...\")\n",
        "      self.TV_Status==\"OFF\"\n",
        "  def Volume_Adjustment(self):\n",
        "    while True:\n",
        "      Answer=input(\"Volume down: '+' \\n Volume up: '-'\\nExit: 'exit'\")\n",
        "      if Answer=='-':\n",
        "        if self.TV_Volume!=0:\n",
        "          self.TV_Volume-=1\n",
        "          print(\"Volume: \",self.TV_Volume)\n",
        "      elif Answer=='-':\n",
        "        if self.TV_Volume!=50:\n",
        "          self.TV_Volume+=1\n",
        "          print(\"Volume: \",self.TV_Volume)\n",
        "      else:\n",
        "        print(\"The sound level has updated\")\n",
        "        break\n",
        "  def Add_Channel(self,Channel_Name):\n",
        "    print(\"Adding channel ...\")\n",
        "    time.sleep(1)\n",
        "    self.Channel_List.append(Channel_Name)\n",
        "    print(\"Channel added...\")\n",
        "  def Random_Channel(self):\n",
        "    Random=random.randint(0,len(Channel_List)-1)\n",
        "    self.Channel_Name=self.Channel_List[Random]\n",
        "    print(\"You are watching now \",self.Channel_Name)\n",
        "  def __let__(self):\n",
        "    return len(self.Channel_List)\n",
        "  def __str__(self):\n",
        "    return \"TV Status: {} \\nChannel list {} \\nWatching channel: {}\".format(self.TV_Status,self.TV_Volume,self.Channel_List,self.Channel_Name)\n",
        "Remote_Controller_1=Remote_Controller()\n",
        "print(\"\"\"\n",
        "\n",
        "1.Turn on TV\n",
        "2.Turn off TV\n",
        "3.Volume Adjusment\n",
        "4.Add channel\n",
        "5.Number of channels\n",
        "6.Open random channel\n",
        "7.TV info\n",
        "\n",
        "for exit press Q\n",
        "\"\"\")\n",
        "while True:\n",
        "  Operation=input(\"Choose the operation you want: \")\n",
        "  if Operation==\"Q\" or Operation==\"q\":\n",
        "    print(\"program is closing...\")\n",
        "    break\n",
        "  elif Operation==\"1\":\n",
        "    Remote_Controller_1.TV_On()\n",
        "  elif Operation==\"2\":\n",
        "    Remote_Controller_1.TV_Off()\n",
        "  elif Operation==\"3\":\n",
        "    Remote_Controller_1.Volume_Adjustment()\n",
        "  elif Operation==\"4\":\n",
        "    Channel_Names=input(\"input channel name seperated by name...\")\n",
        "    Channel_List=Channel_Names.split(\",\")\n",
        "    for adding in Channel_List:\n",
        "      Remote_Controller_1.Add_Channel(adding)\n",
        "  elif Operation==\"5\":\n",
        "    print(\"Number of channel :\",Remote_Controller_1)\n",
        "  elif Operation==\"6\":\n",
        "    Remote_Controller_1.Random_Channel()\n",
        "  elif Operation==\"7\":\n",
        "    print(Remote_Controller_1)\n",
        "  else:\n",
        "    print(\"Invalid operation!\")"
      ]
    }
  ]
}